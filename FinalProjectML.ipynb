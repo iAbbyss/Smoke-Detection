{
 "cells": [
  {
   "cell_type": "markdown",
   "id": "433713de",
   "metadata": {},
   "source": [
    "# Build Predictive Model for Smoke Detection"
   ]
  },
  {
   "cell_type": "raw",
   "id": "f7ecc879",
   "metadata": {},
   "source": [
    "Source of this dataset is in this link : https://www.kaggle.com/datasets/deepcontractor/smoke-detection-dataset\n",
    "\n",
    "Dataset Info:\n",
    "-UTC = Timestamp in Second\n",
    "-Temperature(C) = Temperature in Celcius\n",
    "-Humidity(%) = Humidity in %\n",
    "-TVOC(ppb) = Total Volatile Organic Compound in part per billion\n",
    "-eCo2(ppm) = Total of Co2 Equivalent Concentration in part per million\n",
    "-Raw H2 = Total Molecular Hydrogen\n",
    "-Raw Ethanol = Raw Ethanol Gas\n",
    "-Pressure = Air Pressure in hectopascal(hPa), 1hPa = 100 Pa\n",
    "-PM1.0 = Particular Matter diameter Size < 1μm\n",
    "-PM2.5 = Particular Matter diameter Size < 2.5 μm\n",
    "-NC0.5 = Number Concentration of particular matter Size < 0.5 μm\n",
    "-NC1.0 = Number Concentration of particular matter Size < 1 μm\n",
    "-NC2.5 = Number Concentration of particular matter < 2.5 μm\n",
    "-CNT = Sample Counter\n",
    "-Fire Alarm = Binary Output(1 if alarm ring, 0 if not)"
   ]
  },
  {
   "cell_type": "raw",
   "id": "f7191041",
   "metadata": {},
   "source": [
    "pip install xgboost"
   ]
  },
  {
   "cell_type": "code",
   "execution_count": 1,
   "id": "3abfd6e3",
   "metadata": {},
   "outputs": [
    {
     "ename": "ModuleNotFoundError",
     "evalue": "No module named 'xgboost'",
     "output_type": "error",
     "traceback": [
      "\u001b[0;31m---------------------------------------------------------------------------\u001b[0m",
      "\u001b[0;31mModuleNotFoundError\u001b[0m                       Traceback (most recent call last)",
      "\u001b[1;32m/FinalProjectML.ipynb Cell 4\u001b[0m line \u001b[0;36m1\n\u001b[1;32m      <a href='vscode-notebook-cell:/FinalProjectML.ipynb#W2sZmlsZQ%3D%3D?line=8'>9</a>\u001b[0m \u001b[39mfrom\u001b[39;00m \u001b[39msklearn\u001b[39;00m\u001b[39m.\u001b[39;00m\u001b[39mmetrics\u001b[39;00m \u001b[39mimport\u001b[39;00m classification_report,confusion_matrix\n\u001b[1;32m     <a href='vscode-notebook-cell:/FinalProjectML.ipynb#W2sZmlsZQ%3D%3D?line=10'>11</a>\u001b[0m \u001b[39mfrom\u001b[39;00m \u001b[39msklearn\u001b[39;00m\u001b[39m.\u001b[39;00m\u001b[39mtree\u001b[39;00m \u001b[39mimport\u001b[39;00m DecisionTreeClassifier , plot_tree\n\u001b[0;32m---> <a href='vscode-notebook-cell:/FinalProjectML.ipynb#W2sZmlsZQ%3D%3D?line=11'>12</a>\u001b[0m \u001b[39mfrom\u001b[39;00m \u001b[39mxgboost\u001b[39;00m\u001b[39m.\u001b[39;00m\u001b[39mxgbclassifier\u001b[39;00m \u001b[39mimport\u001b[39;00m XGBClassifier\n",
      "\u001b[0;31mModuleNotFoundError\u001b[0m: No module named 'xgboost'"
     ]
    }
   ],
   "source": [
    "import re\n",
    "import numpy as np\n",
    "import pandas as pd\n",
    "import matplotlib.pyplot as plt\n",
    "import seaborn as sns\n",
    "\n",
    "from sklearn.preprocessing import StandardScaler\n",
    "from sklearn.model_selection import train_test_split\n",
    "from sklearn.metrics import classification_report,confusion_matrix\n",
    "\n",
    "from sklearn.tree import DecisionTreeClassifier , plot_tree\n",
    "from xgboost.xgbclassifier import XGBClassifier\n"
   ]
  },
  {
   "cell_type": "markdown",
   "id": "6fabd7c7",
   "metadata": {},
   "source": [
    "### Data Preprocessing "
   ]
  },
  {
   "cell_type": "code",
   "execution_count": null,
   "id": "a1c8b9d0",
   "metadata": {},
   "outputs": [],
   "source": [
    "df = pd.read_csv(\"smoke_detection_iot.csv\",index_col=0)\n",
    "df"
   ]
  },
  {
   "cell_type": "code",
   "execution_count": null,
   "id": "abcb2698",
   "metadata": {},
   "outputs": [],
   "source": [
    "df.info()"
   ]
  },
  {
   "cell_type": "code",
   "execution_count": null,
   "id": "189c526c",
   "metadata": {},
   "outputs": [],
   "source": [
    "df.isna().sum()\n",
    "#There is no null value in every attribute"
   ]
  },
  {
   "cell_type": "code",
   "execution_count": null,
   "id": "d0f382e8",
   "metadata": {},
   "outputs": [],
   "source": [
    "df.duplicated().sum()\n",
    "#There is no duplicate data in this dataset"
   ]
  },
  {
   "cell_type": "code",
   "execution_count": null,
   "id": "be97eb01",
   "metadata": {},
   "outputs": [],
   "source": [
    "df.describe()"
   ]
  },
  {
   "cell_type": "code",
   "execution_count": null,
   "id": "71a72c63",
   "metadata": {},
   "outputs": [],
   "source": [
    "#Eliminate CNT and UTC, because it only shows counter of sample and timestamp respectively\n",
    "df.drop(['UTC','CNT'],axis = 1,inplace=True)"
   ]
  },
  {
   "cell_type": "markdown",
   "id": "c27300a0",
   "metadata": {},
   "source": [
    "Setelah dianalisa , diketahui bahwa tidak terdapat adanya null values maupun baris data yang terduplikat dari data ini, lalu setelah melakukan analisa dari data information yang ada, kami memutuskan untuk membuang dua buah kolom yang dirasa tidak begitu signifikan dalam modelling,yakni 'UTC' dan 'CNT'"
   ]
  },
  {
   "cell_type": "markdown",
   "id": "61c517dc",
   "metadata": {},
   "source": [
    "### Exploratory Data Analysis"
   ]
  },
  {
   "cell_type": "code",
   "execution_count": null,
   "id": "ca2ac602",
   "metadata": {},
   "outputs": [],
   "source": [
    "#Analyse The Target Variable, which is fire alarm\n",
    "df[\"Fire Alarm\"].value_counts().plot(kind=\"bar\")\n",
    "plt.xticks([0, 1], ['No Alarm', 'Alarm'])\n",
    "plt.xticks(rotation=0)"
   ]
  },
  {
   "cell_type": "markdown",
   "id": "5a22fc11",
   "metadata": {},
   "source": [
    "Terlihat bahwa kita sudah memiliki dataset yang baik, sebab data yang memperlihatkan bahwa fire alarm berbunyi lebih banyak dari yang tidak berbunyi, sehingga model kami dapat memprediksi apakah sebuah fire alarm berbunyi dengan baik"
   ]
  },
  {
   "cell_type": "code",
   "execution_count": null,
   "id": "232a8fbb",
   "metadata": {},
   "outputs": [],
   "source": [
    "fig, ax = plt.subplots(nrows = 3, ncols = 4, figsize = (15, 20))\n",
    "\n",
    "for feature, subplot in zip(df, ax.flatten()):\n",
    "    if feature == 'Fire Alarm':\n",
    "        continue\n",
    "    sns.boxplot(x = df['Fire Alarm'], y = df[feature], showfliers = False, ax = subplot)\n",
    "    subplot.set_xticks([0, 1], ['No Alarm', 'Alarm'])\n",
    "\n",
    "plt.suptitle('Feature Correlations with Target Variable (Fire Alarm)', fontsize = 20)\n",
    "plt.tight_layout(pad = 2)\n",
    "plt.show()"
   ]
  },
  {
   "cell_type": "markdown",
   "id": "fb54b144",
   "metadata": {},
   "source": [
    "Terlihat bahwa:\n",
    "1. Alarm yang berbunyi memiliki TVOC yang jauh lebih tinggi daripada alarm yang tidak berbunyi\n",
    "2. Alarm yang berbunyi memiliki Raw Ethanol yang lebih rendah daripada alarm yang tidak berbunyi\n",
    "3. Rata-rata Tekanan udara (Pressure) alarm yang tidak berbunyi lebih rendah daripada alarm yang berbunyi"
   ]
  },
  {
   "cell_type": "code",
   "execution_count": null,
   "id": "bdc8bee6",
   "metadata": {},
   "outputs": [],
   "source": [
    "#Plotting correlation matrix heatmap\n",
    "\n",
    "corr = df.corr()\n",
    "\n",
    "plt.figure(figsize=(15,15))\n",
    "sns.heatmap(corr,annot=True)"
   ]
  },
  {
   "cell_type": "markdown",
   "id": "9d8f6125",
   "metadata": {},
   "source": [
    "Terlihat bahwa terdapat multicollinnearity yang kuat pada PM1.0 , PM2.5 , NC0.5, NC1.0, dan NC 2.5. Untuk percobaan pertama, kami tidak ingin menghapus terlebih dahulu variabel yang multicollinear untuk melihat performa model secara raw."
   ]
  },
  {
   "cell_type": "markdown",
   "id": "158d0ce1",
   "metadata": {},
   "source": [
    "# Feature engineering"
   ]
  },
  {
   "cell_type": "code",
   "execution_count": null,
   "id": "4b06269f",
   "metadata": {},
   "outputs": [],
   "source": [
    "X = df.drop(['Fire Alarm'],axis=1)\n",
    "Y = df['Fire Alarm']\n",
    "\n",
    "regex = re.compile(r\"\\[|\\]|<\", re.IGNORECASE)\n",
    "X.columns = [regex.sub(\"_\", col) if any(x in str(col) for x in set(('[', ']', '<'))) else col for col in X.columns.values]\n"
   ]
  },
  {
   "cell_type": "markdown",
   "id": "4537ab04",
   "metadata": {},
   "source": [
    "Pada tahap ini, kami tidak melakukan feature scaling, sebab kami memerlukan nama-nama atribut yang ada untuk visualisasi decision tree plot, kemudian untuk nama kolom yang memiliki unsur [] atau < perlu diganti dengan '_', agar XGBClassifier dapat digunakan"
   ]
  },
  {
   "cell_type": "code",
   "execution_count": null,
   "id": "192c8134",
   "metadata": {},
   "outputs": [],
   "source": [
    "#Splitting train and test size with 20% test size\n",
    "X_train,X_test,Y_train, Y_test = train_test_split(X,Y,test_size=0.2,random_state=42)"
   ]
  },
  {
   "cell_type": "code",
   "execution_count": null,
   "id": "90cbf03f",
   "metadata": {},
   "outputs": [],
   "source": [
    "print(X_train.shape)\n",
    "print(X_test.shape)\n",
    "print(Y_train.shape)\n",
    "print(Y_test.shape)\n"
   ]
  },
  {
   "cell_type": "markdown",
   "id": "c10be806",
   "metadata": {},
   "source": [
    "### DecisionTreeClassifier"
   ]
  },
  {
   "cell_type": "code",
   "execution_count": null,
   "id": "69367887",
   "metadata": {},
   "outputs": [],
   "source": [
    "dt = DecisionTreeClassifier()\n",
    "\n",
    "dt_model = dt.fit(X_train,Y_train)\n",
    "\n",
    "dt_pred = dt.predict(X_test)"
   ]
  },
  {
   "cell_type": "code",
   "execution_count": null,
   "id": "685fe94a",
   "metadata": {},
   "outputs": [],
   "source": [
    "print(classification_report(Y_test,dt_pred))"
   ]
  },
  {
   "cell_type": "markdown",
   "id": "fa1f55cf",
   "metadata": {},
   "source": [
    "Terlihat bahwa model bekerja dengan sangat baik dengan akurasi 100%"
   ]
  },
  {
   "cell_type": "code",
   "execution_count": null,
   "id": "ecddce67",
   "metadata": {},
   "outputs": [],
   "source": [
    "plt.figure(figsize=(35,20))\n",
    "dtree_viz = plot_tree(dt_model, \n",
    "                      feature_names = df.drop(['Fire Alarm'],axis=1).columns,\n",
    "                      class_names =['No Alarm','Alarm'])\n",
    "\n",
    "plt.savefig('Model_dt.png')"
   ]
  },
  {
   "cell_type": "markdown",
   "id": "12fcf869",
   "metadata": {},
   "source": [
    "Decision Tree plot could be shown on the .ipynb file , the plot shows that 30,136 from 35,825 rung alarm will ring in conditions : Pressure[hPa] > 938.143 hPa AND TVOC(ppb) > 204.5 ppb AND Humidity[%] >  46.21%  \n",
    "\n",
    "The decision tree plot also shows that 9,060 from 14,279 non-rung alarm is under condition of : Pressure[hPa] <= 937.6 hPa  and the other 4,323 is under condition : Pressure[hPa] > 938.143 hPa AND TVOC[ppb] <= 87.5 ppb AND PM1.0 <= 1.455"
   ]
  },
  {
   "cell_type": "code",
   "execution_count": null,
   "id": "6b74e266",
   "metadata": {},
   "outputs": [],
   "source": [
    "importance = dt_model.feature_importances_\n",
    "importances = pd.DataFrame(data={\n",
    "    'Attribute': X_train.columns,\n",
    "    'Importance': dt_model.feature_importances_\n",
    "})\n",
    "# summarize feature importance\n",
    "#for i,v in enumerate(importance):\n",
    " #print('Feature: %0d, Score: %.5f' % (i,v))\n",
    "# plot feature importance\n",
    "#plt.bar([x for x in range(len(importance))], importance)\n",
    "#plt.show()\n",
    "plt.bar(x=importances['Attribute'], height=importances['Importance'], color='#087E8B')\n",
    "plt.title('Feature importances obtained from coefficients', size=20)\n",
    "plt.xticks(rotation='vertical')\n",
    "plt.show()"
   ]
  },
  {
   "cell_type": "raw",
   "id": "3c92e4a2",
   "metadata": {},
   "source": [
    "Terlihat bahwa attribut yang terpenting pada pemodelan decision tree ini adalah Tekanan Udara(Pressure), TVOC, serta NC0.5"
   ]
  },
  {
   "cell_type": "markdown",
   "id": "e32077d6",
   "metadata": {},
   "source": [
    "### XGBClassifier"
   ]
  },
  {
   "cell_type": "code",
   "execution_count": null,
   "id": "8d1380d1",
   "metadata": {},
   "outputs": [],
   "source": [
    "#Modelling dengan XGBoostClassifier\n",
    "xgb = XGBClassifier()\n",
    "\n",
    "xgb.fit(X_train,Y_train)\n",
    "\n",
    "xgb_pred = xgb.predict(X_test)"
   ]
  },
  {
   "cell_type": "code",
   "execution_count": null,
   "id": "4fa89744",
   "metadata": {},
   "outputs": [],
   "source": [
    "print(classification_report(Y_test,xgb_pred))\n",
    "print(confusion_matrix(Y_test,xgb_pred))"
   ]
  },
  {
   "cell_type": "markdown",
   "id": "e3d6ce1c",
   "metadata": {},
   "source": [
    "Terlihat bahwa model bekerja dengan sangat sempurna dengan akurasi 100%(pembulatan, sebab terdapat 1 buah data yang salah)."
   ]
  }
 ],
 "metadata": {
  "kernelspec": {
   "display_name": "Python 3 (ipykernel)",
   "language": "python",
   "name": "python3"
  },
  "language_info": {
   "codemirror_mode": {
    "name": "ipython",
    "version": 3
   },
   "file_extension": ".py",
   "mimetype": "text/x-python",
   "name": "python",
   "nbconvert_exporter": "python",
   "pygments_lexer": "ipython3",
   "version": "3.10.8"
  }
 },
 "nbformat": 4,
 "nbformat_minor": 5
}
